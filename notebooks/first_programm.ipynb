{
 "cells": [
  {
   "cell_type": "markdown",
   "metadata": {},
   "source": [
    "1. Programm: Fakultätrechner"
   ]
  },
  {
   "cell_type": "code",
   "execution_count": 1,
   "metadata": {},
   "outputs": [
    {
     "name": "stdout",
     "output_type": "stream",
     "text": [
      "24\n"
     ]
    }
   ],
   "source": [
    "a = int(input(\"Enter a number: \"))\n",
    "sum = 1\n",
    "for i in range(1, a+1):\n",
    "    sum = sum*i\n",
    "print(sum)"
   ]
  },
  {
   "cell_type": "markdown",
   "metadata": {},
   "source": [
    "2. Programm: Ping-Pong"
   ]
  },
  {
   "cell_type": "code",
   "execution_count": 17,
   "metadata": {},
   "outputs": [
    {
     "name": "stdout",
     "output_type": "stream",
     "text": [
      "ICH HABE GESAGT PING ODER PONG\n"
     ]
    }
   ],
   "source": [
    "b = str(input(\"Schreib Ping oder Pong: \"))\n",
    "if b == \"Ping\":\n",
    "    print(\"Pong\")\n",
    "else:\n",
    "    if b == \"Pong\":\n",
    "        print(\"Ping\")\n",
    "    else:\n",
    "        print(\"ICH HABE GESAGT PING ODER PONG\")\n",
    "\n"
   ]
  },
  {
   "cell_type": "markdown",
   "metadata": {},
   "source": [
    "3. Programm: Schere Stein Papier"
   ]
  },
  {
   "cell_type": "code",
   "execution_count": 3,
   "metadata": {},
   "outputs": [
    {
     "name": "stdout",
     "output_type": "stream",
     "text": [
      "Der Computer hat Schere gewählt\n",
      "Du hast verloren\n"
     ]
    }
   ],
   "source": [
    "playerpick = str(input(\"Schreib Stein, Schere oder Papier: \"))\n",
    "import random\n",
    "computerpick = random.choice([\"Stein\", \"Schere\", \"Papier\"])\n",
    "print(\"Der Computer hat \" + computerpick + \" gewählt\")\n",
    "if playerpick == computerpick:\n",
    "    print(\"Unentschieden\")\n",
    "else:\n",
    "    if playerpick == \"Stein\":\n",
    "        if computerpick == \"Schere\":\n",
    "            print(\"Du hast gewonnen\")\n",
    "        else:\n",
    "            print(\"Du hast verloren\")\n",
    "    else:\n",
    "        if playerpick == \"Schere\":\n",
    "            if computerpick == \"Papier\":\n",
    "                print(\"Du hast gewonnen\")\n",
    "            else:\n",
    "                print(\"Du hast verloren\")\n",
    "        else:\n",
    "            if playerpick == \"Papier\":\n",
    "                if computerpick == \"Stein\":\n",
    "                    print(\"Du hast gewonnen\")\n",
    "                else:\n",
    "                    print(\"Du hast verloren\")\n",
    "            else:\n",
    "                print(\"Du hast was falsches eingegeben\")"
   ]
  }
 ],
 "metadata": {
  "kernelspec": {
   "display_name": "Python 3",
   "language": "python",
   "name": "python3"
  },
  "language_info": {
   "codemirror_mode": {
    "name": "ipython",
    "version": 3
   },
   "file_extension": ".py",
   "mimetype": "text/x-python",
   "name": "python",
   "nbconvert_exporter": "python",
   "pygments_lexer": "ipython3",
   "version": "3.10.13"
  }
 },
 "nbformat": 4,
 "nbformat_minor": 2
}
