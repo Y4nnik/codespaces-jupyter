{
 "cells": [
  {
   "cell_type": "markdown",
   "metadata": {},
   "source": [
    "1. Programm: Fakultätrechner"
   ]
  },
  {
   "cell_type": "code",
   "execution_count": 1,
   "metadata": {},
   "outputs": [
    {
     "name": "stdout",
     "output_type": "stream",
     "text": [
      "24\n"
     ]
    }
   ],
   "source": [
    "a = int(input(\"Enter a number: \"))\n",
    "sum = 1\n",
    "for i in range(1, a+1):\n",
    "    sum = sum*i\n",
    "print(sum)"
   ]
  },
  {
   "cell_type": "markdown",
   "metadata": {},
   "source": [
    "2. Programm: Ping-Pong"
   ]
  },
  {
   "cell_type": "code",
   "execution_count": 17,
   "metadata": {},
   "outputs": [
    {
     "name": "stdout",
     "output_type": "stream",
     "text": [
      "ICH HABE GESAGT PING ODER PONG\n"
     ]
    }
   ],
   "source": [
    "b = str(input(\"Schreib Ping oder Pong: \"))\n",
    "if b == \"Ping\":\n",
    "    print(\"Pong\")\n",
    "else:\n",
    "    if b == \"Pong\":\n",
    "        print(\"Ping\")\n",
    "    else:\n",
    "        print(\"ICH HABE GESAGT PING ODER PONG\")\n",
    "\n"
   ]
  },
  {
   "cell_type": "markdown",
   "metadata": {},
   "source": [
    "3. Programm: Schere Stein Papier"
   ]
  },
  {
   "cell_type": "code",
   "execution_count": 3,
   "metadata": {},
   "outputs": [
    {
     "name": "stdout",
     "output_type": "stream",
     "text": [
      "Der Computer hat Schere gewählt\n",
      "Du hast verloren\n"
     ]
    }
   ],
   "source": [
    "playerpick = str(input(\"Schreib Stein, Schere oder Papier: \"))\n",
    "import random\n",
    "computerpick = random.choice([\"Stein\", \"Schere\", \"Papier\"])\n",
    "print(\"Der Computer hat \" + computerpick + \" gewählt\")\n",
    "if playerpick == computerpick:\n",
    "    print(\"Unentschieden\")\n",
    "else:\n",
    "    if playerpick == \"Stein\":\n",
    "        if computerpick == \"Schere\":\n",
    "            print(\"Du hast gewonnen\")\n",
    "        else:\n",
    "            print(\"Du hast verloren\")\n",
    "    else:\n",
    "        if playerpick == \"Schere\":\n",
    "            if computerpick == \"Papier\":\n",
    "                print(\"Du hast gewonnen\")\n",
    "            else:\n",
    "                print(\"Du hast verloren\")\n",
    "        else:\n",
    "            if playerpick == \"Papier\":\n",
    "                if computerpick == \"Stein\":\n",
    "                    print(\"Du hast gewonnen\")\n",
    "                else:\n",
    "                    print(\"Du hast verloren\")\n",
    "            else:\n",
    "                print(\"Du hast was falsches eingegeben\")"
   ]
  },
  {
   "cell_type": "markdown",
   "metadata": {},
   "source": [
    "For-Loop: Baumpflanzer"
   ]
  },
  {
   "cell_type": "code",
   "execution_count": 60,
   "metadata": {},
   "outputs": [
    {
     "name": "stdout",
     "output_type": "stream",
     "text": [
      "       #               #               #               #               #               #               #               #        \n",
      "      ###             ###             ###             ###             ###             ###             ###             ###       \n",
      "     #####           #####           #####           #####           #####           #####           #####           #####      \n",
      "    #######         #######         #######         #######         #######         #######         #######         #######     \n",
      "   #########       #########       #########       #########       #########       #########       #########       #########    \n",
      "  ###########     ###########     ###########     ###########     ###########     ###########     ###########     ###########   \n",
      " #############   #############   #############   #############   #############   #############   #############   #############  \n",
      "############### ############### ############### ############### ############### ############### ############### ############### \n",
      "       §               §               §               §               §               §               §               §        \n",
      "       §               §               §               §               §               §               §               §        \n"
     ]
    }
   ],
   "source": [
    "b = int(input(\"Höhe des Baumes (ohne Stamm):\"))\n",
    "a = int(input(\"Anzahl der Bäume:\"))\n",
    "sym = str(input(\"Art der Bäume:\"))\n",
    "trees = ['' for _ in range(b+2)]  # Mach eine Liste mit b+2(Wegen den Stämmen +2) leeren Strings\n",
    "\n",
    "for i in range(1, a+1): # Für jeden Baum einmal durchführen\n",
    "    for j in range(1, b+1): # Für jede Höhe einmal durchführen\n",
    "        trees[j-1] += (b-j)*\" \" + (2*j-1)*sym + (b-j)*\" \" + \" \" # Speichere die Baumzeile in der Liste an der richtigen Stelle\n",
    "    trees[b] += ((b)-1)*\" \" + \"§\" + ((b)-1)*\" \" + \" \"  #Stamm\n",
    "    if b>5:\n",
    "        trees[b+1] += ((b)-1)*\" \" + \"§\" + ((b)-1)*\" \" + \" \"  # Bei Bäumen die größer al 5 sind noch einen Stamm drunter\n",
    "\n",
    "for tree_line in trees:\n",
    "    print(tree_line) # Gib aus"
   ]
  },
  {
   "cell_type": "markdown",
   "metadata": {},
   "source": [
    "Shopping-List"
   ]
  },
  {
   "cell_type": "code",
   "execution_count": 5,
   "metadata": {},
   "outputs": [
    {
     "name": "stdout",
     "output_type": "stream",
     "text": [
      "['kuchen 4', 'b 8', 'c 3']\n",
      "Das macht zusammen 15€\n"
     ]
    }
   ],
   "source": [
    "shoppinglist = []\n",
    "total = 0\n",
    "while True:\n",
    "    item = input(\"Was willst du kaufen? \")\n",
    "    if item == \"\":\n",
    "        break\n",
    "    price = input(\"Wie viel kostet das? \")\n",
    "    total += int(price)\n",
    "    shoppinglist.append(item + \" \" + price)\n",
    "print(shoppinglist)\n",
    "print(\"Das macht zusammen \" + str(total) + \"€\")"
   ]
  },
  {
   "cell_type": "code",
   "execution_count": 17,
   "metadata": {},
   "outputs": [
    {
     "name": "stdout",
     "output_type": "stream",
     "text": [
      "1\n",
      "22\n",
      "333\n",
      "4444\n",
      "55555\n",
      "666666\n"
     ]
    }
   ],
   "source": [
    "a = int(input(\"Wie viele Reihen? \"))\n",
    "j = 0\n",
    "for i in range(1, a+1):\n",
    "        print(str(i)*i)\n",
    "     \n",
    "    \n",
    "    \n"
   ]
  },
  {
   "cell_type": "markdown",
   "metadata": {},
   "source": [
    "Transaktionenmodul"
   ]
  },
  {
   "cell_type": "code",
   "execution_count": 1,
   "metadata": {},
   "outputs": [
    {
     "ename": "ValueError",
     "evalue": "invalid literal for int() with base 10: ''",
     "output_type": "error",
     "traceback": [
      "\u001b[1;31m---------------------------------------------------------------------------\u001b[0m",
      "\u001b[1;31mValueError\u001b[0m                                Traceback (most recent call last)",
      "Cell \u001b[1;32mIn[1], line 9\u001b[0m\n\u001b[0;32m      7\u001b[0m searched_transactions \u001b[38;5;241m=\u001b[39m []\n\u001b[0;32m      8\u001b[0m \u001b[38;5;28;01mwhile\u001b[39;00m x \u001b[38;5;241m!=\u001b[39m \u001b[38;5;124m\"\u001b[39m\u001b[38;5;124mexit\u001b[39m\u001b[38;5;124m\"\u001b[39m:\n\u001b[1;32m----> 9\u001b[0m     tr[\u001b[38;5;124m\"\u001b[39m\u001b[38;5;124mdate\u001b[39m\u001b[38;5;124m\"\u001b[39m] \u001b[38;5;241m=\u001b[39m \u001b[38;5;28;43mint\u001b[39;49m\u001b[43m(\u001b[49m\u001b[38;5;28;43minput\u001b[39;49m\u001b[43m(\u001b[49m\u001b[38;5;124;43m\"\u001b[39;49m\u001b[38;5;124;43mEnter the date: \u001b[39;49m\u001b[38;5;124;43m\"\u001b[39;49m\u001b[43m)\u001b[49m\u001b[43m)\u001b[49m\n\u001b[0;32m     10\u001b[0m     tr[\u001b[38;5;124m\"\u001b[39m\u001b[38;5;124mamount\u001b[39m\u001b[38;5;124m\"\u001b[39m] \u001b[38;5;241m=\u001b[39m \u001b[38;5;28mint\u001b[39m(\u001b[38;5;28minput\u001b[39m(\u001b[38;5;124m\"\u001b[39m\u001b[38;5;124mEnter the amount: \u001b[39m\u001b[38;5;124m\"\u001b[39m))\n\u001b[0;32m     11\u001b[0m     all_transactions \u001b[38;5;241m+\u001b[39m\u001b[38;5;241m=\u001b[39m [tr]\n",
      "\u001b[1;31mValueError\u001b[0m: invalid literal for int() with base 10: ''"
     ]
    }
   ],
   "source": [
    "\n",
    "x = \"\"\n",
    "tr = {\n",
    "    \"date\": int,\n",
    "    \"amount\": int,\n",
    "}\n",
    "all_transactions = []\n",
    "searched_transactions = []\n",
    "while x != \"exit\":\n",
    "    tr[\"date\"] = int(input(\"Enter the date: \"))\n",
    "    tr[\"amount\"] = int(input(\"Enter the amount: \"))\n",
    "    all_transactions += [tr]\n",
    "    tr = {\n",
    "        \"date\": int,\n",
    "        \"amount\": int,\n",
    "    }\n",
    "    x = input(\"Enter 'exit' to exit or press enter to continue: \")\n",
    "print(all_transactions)\n",
    "current_date = int(input(\"Enter the current date: \"))\n",
    "search_Key = str(input(\"Enter the key to search: \"))\n",
    "if search_Key == \"date\":\n",
    "    search_Value = int(input(\"Enter the date to search: \"))\n",
    "if search_Key == \"amount\":\n",
    "    search_Value = int(input(\"Enter the amount to search: \"))\n",
    "for transaction in all_transactions:\n",
    "    if transaction[search_Key] == search_Value:\n",
    "        searched_transactions += [transaction]\n",
    "print(searched_transactions)\n",
    "trans_yesterday = 0\n",
    "income = 0\n",
    "expenses = 0\n",
    "for transaction in all_transactions:\n",
    "    if transaction[\"date\"] == current_date-1:\n",
    "        trans_yesterday += 1\n",
    "for transaction in all_transactions:\n",
    "    if transaction[\"amount\"] < 0:\n",
    "        expenses += transaction[\"amount\"]\n",
    "    if transaction[\"amount\"] > 0:\n",
    "        income += transaction[\"amount\"]\n",
    "print(\"Transactions yesterday: \" + str(trans_yesterday))\n",
    "print(\"The total income is: \" + str(income))\n",
    "print(\"The total expenses is: \" + str(expenses))"
   ]
  },
  {
   "cell_type": "markdown",
   "metadata": {},
   "source": [
    "Guess the Number"
   ]
  },
  {
   "cell_type": "code",
   "execution_count": 2,
   "metadata": {},
   "outputs": [
    {
     "name": "stdout",
     "output_type": "stream",
     "text": [
      "Too low! Try again.\n",
      "Too low! Try again.\n",
      "Too low! Try again.\n",
      "Too high! Try again.\n",
      "Too high! Try again.\n",
      "Too high! Try again.\n",
      "Congratulations! You guessed the number in 7 guesses.\n"
     ]
    }
   ],
   "source": [
    "import random\n",
    "\n",
    "# Generate a random number between 1 and 100\n",
    "secret_number = random.randint(1, 100)\n",
    "\n",
    "# Initialize the number of guesses\n",
    "num_guesses = 0\n",
    "\n",
    "# Game loop\n",
    "while True:\n",
    "    # Get user's guess\n",
    "    guess = int(input(\"Guess a number between 1 and 100: \"))\n",
    "    \n",
    "    # Increment the number of guesses\n",
    "    num_guesses += 1\n",
    "    \n",
    "    # Check if the guess is correct\n",
    "    if guess == secret_number:\n",
    "        print(\"Congratulations! You guessed the number in\", num_guesses, \"guesses.\")\n",
    "        break\n",
    "    elif guess < secret_number:\n",
    "        print(\"Too low! Try again.\")\n",
    "    else:\n",
    "        print(\"Too high! Try again.\")\n"
   ]
  }
 ],
 "metadata": {
  "kernelspec": {
   "display_name": "Python 3",
   "language": "python",
   "name": "python3"
  },
  "language_info": {
   "codemirror_mode": {
    "name": "ipython",
    "version": 3
   },
   "file_extension": ".py",
   "mimetype": "text/x-python",
   "name": "python",
   "nbconvert_exporter": "python",
   "pygments_lexer": "ipython3",
   "version": "3.12.0"
  }
 },
 "nbformat": 4,
 "nbformat_minor": 2
}
