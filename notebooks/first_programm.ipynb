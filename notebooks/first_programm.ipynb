{
 "cells": [
  {
   "cell_type": "markdown",
   "metadata": {},
   "source": [
    "1. Programm: Fakultätrechner"
   ]
  },
  {
   "cell_type": "code",
   "execution_count": 1,
   "metadata": {},
   "outputs": [
    {
     "name": "stdout",
     "output_type": "stream",
     "text": [
      "24\n"
     ]
    }
   ],
   "source": [
    "a = int(input(\"Enter a number: \"))\n",
    "sum = 1\n",
    "for i in range(1, a+1):\n",
    "    sum = sum*i\n",
    "print(sum)"
   ]
  },
  {
   "cell_type": "markdown",
   "metadata": {},
   "source": [
    "2. Programm: Ping-Pong"
   ]
  },
  {
   "cell_type": "code",
   "execution_count": 17,
   "metadata": {},
   "outputs": [
    {
     "name": "stdout",
     "output_type": "stream",
     "text": [
      "ICH HABE GESAGT PING ODER PONG\n"
     ]
    }
   ],
   "source": [
    "b = str(input(\"Schreib Ping oder Pong: \"))\n",
    "if b == \"Ping\":\n",
    "    print(\"Pong\")\n",
    "else:\n",
    "    if b == \"Pong\":\n",
    "        print(\"Ping\")\n",
    "    else:\n",
    "        print(\"ICH HABE GESAGT PING ODER PONG\")\n",
    "\n"
   ]
  },
  {
   "cell_type": "markdown",
   "metadata": {},
   "source": [
    "3. Programm: Schere Stein Papier"
   ]
  },
  {
   "cell_type": "code",
   "execution_count": 3,
   "metadata": {},
   "outputs": [
    {
     "name": "stdout",
     "output_type": "stream",
     "text": [
      "Der Computer hat Schere gewählt\n",
      "Du hast verloren\n"
     ]
    }
   ],
   "source": [
    "playerpick = str(input(\"Schreib Stein, Schere oder Papier: \"))\n",
    "import random\n",
    "computerpick = random.choice([\"Stein\", \"Schere\", \"Papier\"])\n",
    "print(\"Der Computer hat \" + computerpick + \" gewählt\")\n",
    "if playerpick == computerpick:\n",
    "    print(\"Unentschieden\")\n",
    "else:\n",
    "    if playerpick == \"Stein\":\n",
    "        if computerpick == \"Schere\":\n",
    "            print(\"Du hast gewonnen\")\n",
    "        else:\n",
    "            print(\"Du hast verloren\")\n",
    "    else:\n",
    "        if playerpick == \"Schere\":\n",
    "            if computerpick == \"Papier\":\n",
    "                print(\"Du hast gewonnen\")\n",
    "            else:\n",
    "                print(\"Du hast verloren\")\n",
    "        else:\n",
    "            if playerpick == \"Papier\":\n",
    "                if computerpick == \"Stein\":\n",
    "                    print(\"Du hast gewonnen\")\n",
    "                else:\n",
    "                    print(\"Du hast verloren\")\n",
    "            else:\n",
    "                print(\"Du hast was falsches eingegeben\")"
   ]
  },
  {
   "cell_type": "markdown",
   "metadata": {},
   "source": [
    "For-Loop: Baumpflanzer"
   ]
  },
  {
   "cell_type": "code",
   "execution_count": 60,
   "metadata": {},
   "outputs": [
    {
     "name": "stdout",
     "output_type": "stream",
     "text": [
      "       #               #               #               #               #               #               #               #        \n",
      "      ###             ###             ###             ###             ###             ###             ###             ###       \n",
      "     #####           #####           #####           #####           #####           #####           #####           #####      \n",
      "    #######         #######         #######         #######         #######         #######         #######         #######     \n",
      "   #########       #########       #########       #########       #########       #########       #########       #########    \n",
      "  ###########     ###########     ###########     ###########     ###########     ###########     ###########     ###########   \n",
      " #############   #############   #############   #############   #############   #############   #############   #############  \n",
      "############### ############### ############### ############### ############### ############### ############### ############### \n",
      "       §               §               §               §               §               §               §               §        \n",
      "       §               §               §               §               §               §               §               §        \n"
     ]
    }
   ],
   "source": [
    "b = int(input(\"Höhe des Baumes (ohne Stamm):\"))\n",
    "a = int(input(\"Anzahl der Bäume:\"))\n",
    "sym = str(input(\"Art der Bäume:\"))\n",
    "trees = ['' for _ in range(b+2)]  # Mach eine Liste mit b+2(Wegen den Stämmen +2) leeren Strings\n",
    "\n",
    "for i in range(1, a+1): # Für jeden Baum einmal durchführen\n",
    "    for j in range(1, b+1): # Für jede Höhe einmal durchführen\n",
    "        trees[j-1] += (b-j)*\" \" + (2*j-1)*sym + (b-j)*\" \" + \" \" # Speichere die Baumzeile in der Liste an der richtigen Stelle\n",
    "    trees[b] += ((b)-1)*\" \" + \"§\" + ((b)-1)*\" \" + \" \"  #Stamm\n",
    "    if b>5:\n",
    "        trees[b+1] += ((b)-1)*\" \" + \"§\" + ((b)-1)*\" \" + \" \"  # Bei Bäumen die größer al 5 sind noch einen Stamm drunter\n",
    "\n",
    "for tree_line in trees:\n",
    "    print(tree_line) # Gib aus"
   ]
  },
  {
   "cell_type": "markdown",
   "metadata": {},
   "source": [
    "Shopping-List"
   ]
  },
  {
   "cell_type": "code",
   "execution_count": 5,
   "metadata": {},
   "outputs": [
    {
     "name": "stdout",
     "output_type": "stream",
     "text": [
      "['kuchen 4', 'b 8', 'c 3']\n",
      "Das macht zusammen 15€\n"
     ]
    }
   ],
   "source": [
    "shoppinglist = []\n",
    "total = 0\n",
    "while True:\n",
    "    item = input(\"Was willst du kaufen? \")\n",
    "    if item == \"\":\n",
    "        break\n",
    "    price = input(\"Wie viel kostet das? \")\n",
    "    total += int(price)\n",
    "    shoppinglist.append(item + \" \" + price)\n",
    "print(shoppinglist)\n",
    "print(\"Das macht zusammen \" + str(total) + \"€\")"
   ]
  },
  {
   "cell_type": "code",
   "execution_count": 17,
   "metadata": {},
   "outputs": [
    {
     "name": "stdout",
     "output_type": "stream",
     "text": [
      "1\n",
      "22\n",
      "333\n",
      "4444\n",
      "55555\n",
      "666666\n"
     ]
    }
   ],
   "source": [
    "a = int(input(\"Wie viele Reihen? \"))\n",
    "j = 0\n",
    "for i in range(1, a+1):\n",
    "        print(str(i)*i)\n",
    "     \n",
    "    \n",
    "    \n"
   ]
  },
  {
   "cell_type": "markdown",
   "metadata": {},
   "source": [
    "Transaktionenmodul"
   ]
  },
  {
   "cell_type": "code",
   "execution_count": 1,
   "metadata": {},
   "outputs": [
    {
     "ename": "ValueError",
     "evalue": "invalid literal for int() with base 10: ''",
     "output_type": "error",
     "traceback": [
      "\u001b[1;31m---------------------------------------------------------------------------\u001b[0m",
      "\u001b[1;31mValueError\u001b[0m                                Traceback (most recent call last)",
      "Cell \u001b[1;32mIn[1], line 9\u001b[0m\n\u001b[0;32m      7\u001b[0m searched_transactions \u001b[38;5;241m=\u001b[39m []\n\u001b[0;32m      8\u001b[0m \u001b[38;5;28;01mwhile\u001b[39;00m x \u001b[38;5;241m!=\u001b[39m \u001b[38;5;124m\"\u001b[39m\u001b[38;5;124mexit\u001b[39m\u001b[38;5;124m\"\u001b[39m:\n\u001b[1;32m----> 9\u001b[0m     tr[\u001b[38;5;124m\"\u001b[39m\u001b[38;5;124mdate\u001b[39m\u001b[38;5;124m\"\u001b[39m] \u001b[38;5;241m=\u001b[39m \u001b[38;5;28;43mint\u001b[39;49m\u001b[43m(\u001b[49m\u001b[38;5;28;43minput\u001b[39;49m\u001b[43m(\u001b[49m\u001b[38;5;124;43m\"\u001b[39;49m\u001b[38;5;124;43mEnter the date: \u001b[39;49m\u001b[38;5;124;43m\"\u001b[39;49m\u001b[43m)\u001b[49m\u001b[43m)\u001b[49m\n\u001b[0;32m     10\u001b[0m     tr[\u001b[38;5;124m\"\u001b[39m\u001b[38;5;124mamount\u001b[39m\u001b[38;5;124m\"\u001b[39m] \u001b[38;5;241m=\u001b[39m \u001b[38;5;28mint\u001b[39m(\u001b[38;5;28minput\u001b[39m(\u001b[38;5;124m\"\u001b[39m\u001b[38;5;124mEnter the amount: \u001b[39m\u001b[38;5;124m\"\u001b[39m))\n\u001b[0;32m     11\u001b[0m     all_transactions \u001b[38;5;241m+\u001b[39m\u001b[38;5;241m=\u001b[39m [tr]\n",
      "\u001b[1;31mValueError\u001b[0m: invalid literal for int() with base 10: ''"
     ]
    }
   ],
   "source": [
    "\n",
    "x = \"\"\n",
    "tr = {\n",
    "    \"date\": int,\n",
    "    \"amount\": int,\n",
    "}\n",
    "all_transactions = []\n",
    "searched_transactions = []\n",
    "while x != \"exit\":\n",
    "    tr[\"date\"] = int(input(\"Enter the date: \"))\n",
    "    tr[\"amount\"] = int(input(\"Enter the amount: \"))\n",
    "    all_transactions += [tr]\n",
    "    tr = {\n",
    "        \"date\": int,\n",
    "        \"amount\": int,\n",
    "    }\n",
    "    x = input(\"Enter 'exit' to exit or press enter to continue: \")\n",
    "print(all_transactions)\n",
    "current_date = int(input(\"Enter the current date: \"))\n",
    "search_Key = str(input(\"Enter the key to search: \"))\n",
    "if search_Key == \"date\":\n",
    "    search_Value = int(input(\"Enter the date to search: \"))\n",
    "if search_Key == \"amount\":\n",
    "    search_Value = int(input(\"Enter the amount to search: \"))\n",
    "for transaction in all_transactions:\n",
    "    if transaction[search_Key] == search_Value:\n",
    "        searched_transactions += [transaction]\n",
    "print(searched_transactions)\n",
    "trans_yesterday = 0\n",
    "income = 0\n",
    "expenses = 0\n",
    "for transaction in all_transactions:\n",
    "    if transaction[\"date\"] == current_date-1:\n",
    "        trans_yesterday += 1\n",
    "for transaction in all_transactions:\n",
    "    if transaction[\"amount\"] < 0:\n",
    "        expenses += transaction[\"amount\"]\n",
    "    if transaction[\"amount\"] > 0:\n",
    "        income += transaction[\"amount\"]\n",
    "print(\"Transactions yesterday: \" + str(trans_yesterday))\n",
    "print(\"The total income is: \" + str(income))\n",
    "print(\"The total expenses is: \" + str(expenses))"
   ]
  },
  {
   "cell_type": "markdown",
   "metadata": {},
   "source": [
    "Guess the Number"
   ]
  },
  {
   "cell_type": "code",
   "execution_count": 2,
   "metadata": {},
   "outputs": [
    {
     "name": "stdout",
     "output_type": "stream",
     "text": [
      "Too low! Try again.\n",
      "Too low! Try again.\n",
      "Too low! Try again.\n",
      "Too high! Try again.\n",
      "Too high! Try again.\n",
      "Too high! Try again.\n",
      "Congratulations! You guessed the number in 7 guesses.\n"
     ]
    }
   ],
   "source": [
    "import random\n",
    "\n",
    "# Generate a random number between 1 and 100\n",
    "secret_number = random.randint(1, 100)\n",
    "\n",
    "# Initialize the number of guesses\n",
    "num_guesses = 0\n",
    "\n",
    "# Game loop\n",
    "while True:\n",
    "    # Get user's guess\n",
    "    guess = int(input(\"Guess a number between 1 and 100: \"))\n",
    "    \n",
    "    # Increment the number of guesses\n",
    "    num_guesses += 1\n",
    "    \n",
    "    # Check if the guess is correct\n",
    "    if guess == secret_number:\n",
    "        print(\"Congratulations! You guessed the number in\", num_guesses, \"guesses.\")\n",
    "        break\n",
    "    elif guess < secret_number:\n",
    "        print(\"Too low! Try again.\")\n",
    "    else:\n",
    "        print(\"Too high! Try again.\")\n"
   ]
  },
  {
   "cell_type": "markdown",
   "metadata": {},
   "source": []
  },
  {
   "cell_type": "code",
   "execution_count": 2,
   "metadata": {},
   "outputs": [
    {
     "name": "stdout",
     "output_type": "stream",
     "text": [
      "Calculator Menu:\n",
      "1. Add\n",
      "2. Subtract\n",
      "3. Multiply\n",
      "4. Divide\n",
      "5. Exit\n",
      "Result:  9.0\n",
      "Calculator Menu:\n",
      "1. Add\n",
      "2. Subtract\n",
      "3. Multiply\n",
      "4. Divide\n",
      "5. Exit\n",
      "Result:  25.0\n",
      "Calculator Menu:\n",
      "1. Add\n",
      "2. Subtract\n",
      "3. Multiply\n",
      "4. Divide\n",
      "5. Exit\n"
     ]
    },
    {
     "ename": "ValueError",
     "evalue": "could not convert string to float: ''",
     "output_type": "error",
     "traceback": [
      "\u001b[1;31m---------------------------------------------------------------------------\u001b[0m",
      "\u001b[1;31mValueError\u001b[0m                                Traceback (most recent call last)",
      "Cell \u001b[1;32mIn[2], line 33\u001b[0m\n\u001b[0;32m     30\u001b[0m     \u001b[38;5;28mprint\u001b[39m(\u001b[38;5;124m\"\u001b[39m\u001b[38;5;124mExiting the calculator program...\u001b[39m\u001b[38;5;124m\"\u001b[39m)\n\u001b[0;32m     31\u001b[0m     \u001b[38;5;28;01mbreak\u001b[39;00m\n\u001b[1;32m---> 33\u001b[0m num1 \u001b[38;5;241m=\u001b[39m \u001b[38;5;28;43mfloat\u001b[39;49m\u001b[43m(\u001b[49m\u001b[38;5;28;43minput\u001b[39;49m\u001b[43m(\u001b[49m\u001b[38;5;124;43m\"\u001b[39;49m\u001b[38;5;124;43mEnter the first number: \u001b[39;49m\u001b[38;5;124;43m\"\u001b[39;49m\u001b[43m)\u001b[49m\u001b[43m)\u001b[49m\n\u001b[0;32m     34\u001b[0m num2 \u001b[38;5;241m=\u001b[39m \u001b[38;5;28mfloat\u001b[39m(\u001b[38;5;28minput\u001b[39m(\u001b[38;5;124m\"\u001b[39m\u001b[38;5;124mEnter the second number: \u001b[39m\u001b[38;5;124m\"\u001b[39m))\n\u001b[0;32m     36\u001b[0m \u001b[38;5;28;01mif\u001b[39;00m choice \u001b[38;5;241m==\u001b[39m \u001b[38;5;124m\"\u001b[39m\u001b[38;5;124m1\u001b[39m\u001b[38;5;124m\"\u001b[39m:\n",
      "\u001b[1;31mValueError\u001b[0m: could not convert string to float: ''"
     ]
    }
   ],
   "source": [
    "# Calculator program\n",
    "\n",
    "def add(a, b):\n",
    "    return a + b\n",
    "\n",
    "def subtract(a, b):\n",
    "    return a - b\n",
    "\n",
    "def multiply(a, b):\n",
    "    return a * b\n",
    "\n",
    "def divide(a, b):\n",
    "    if b != 0:\n",
    "        return a / b\n",
    "    else:\n",
    "        return \"Error: Division by zero\"\n",
    "\n",
    "# Main program loop\n",
    "while True:\n",
    "    print(\"Calculator Menu:\")\n",
    "    print(\"1. Add\")\n",
    "    print(\"2. Subtract\")\n",
    "    print(\"3. Multiply\")\n",
    "    print(\"4. Divide\")\n",
    "    print(\"5. Exit\")\n",
    "\n",
    "    choice = input(\"Enter your choice (1-5): \")\n",
    "\n",
    "    if choice == \"5\":\n",
    "        print(\"Exiting the calculator program...\")\n",
    "        break\n",
    "\n",
    "    num1 = float(input(\"Enter the first number: \"))\n",
    "    num2 = float(input(\"Enter the second number: \"))\n",
    "\n",
    "    if choice == \"1\":\n",
    "        result = add(num1, num2)\n",
    "        print(\"Result: \", result)\n",
    "    elif choice == \"2\":\n",
    "        result = subtract(num1, num2)\n",
    "        print(\"Result: \", result)\n",
    "    elif choice == \"3\":\n",
    "        result = multiply(num1, num2)\n",
    "        print(\"Result: \", result)\n",
    "    elif choice == \"4\":\n",
    "        result = divide(num1, num2)\n",
    "        print(\"Result: \", result)\n",
    "    else:\n",
    "        print(\"Invalid choice. Please try again.\")\n"
   ]
  },
  {
   "cell_type": "code",
   "execution_count": 3,
   "metadata": {},
   "outputs": [
    {
     "name": "stdout",
     "output_type": "stream",
     "text": [
      "Question: What is the capital of France?\n",
      "Answer: Paris\n",
      "\n",
      "Question: What is the square root of 16?\n",
      "Answer: 4\n",
      "\n",
      "Question: What is the square root of 16?\n",
      "Answer: 4\n",
      "\n"
     ]
    }
   ],
   "source": [
    "class Flashcard:\n",
    "    def __init__(self, question, answer):\n",
    "        self.question = question\n",
    "        self.answer = answer\n",
    "\n",
    "class FlashcardManager:\n",
    "    def __init__(self):\n",
    "        self.flashcards = []\n",
    "\n",
    "    def add_flashcard(self, question, answer):\n",
    "        flashcard = Flashcard(question, answer)\n",
    "        self.flashcards.append(flashcard)\n",
    "\n",
    "    def remove_flashcard(self, question):\n",
    "        for flashcard in self.flashcards:\n",
    "            if flashcard.question == question:\n",
    "                self.flashcards.remove(flashcard)\n",
    "                break\n",
    "\n",
    "    def view_flashcards(self):\n",
    "        for flashcard in self.flashcards:\n",
    "            print(\"Question:\", flashcard.question)\n",
    "            print(\"Answer:\", flashcard.answer)\n",
    "            print()\n",
    "\n",
    "# Example usage\n",
    "manager = FlashcardManager()\n",
    "\n",
    "# Add flashcards\n",
    "manager.add_flashcard(\"What is the capital of France?\", \"Paris\")\n",
    "manager.add_flashcard(\"What is the square root of 16?\", \"4\")\n",
    "\n",
    "# View flashcards\n",
    "manager.view_flashcards()\n",
    "\n",
    "# Remove a flashcard\n",
    "manager.remove_flashcard(\"What is the capital of France?\")\n",
    "\n",
    "# View flashcards again\n",
    "manager.view_flashcards()\n"
   ]
  },
  {
   "cell_type": "code",
   "execution_count": 10,
   "metadata": {},
   "outputs": [
    {
     "name": "stdout",
     "output_type": "stream",
     "text": [
      "143 ist keine Primzahl.\n"
     ]
    }
   ],
   "source": [
    "# Programm: Primzahlprüfer\n",
    "\n",
    "def is_prime(n):\n",
    "    if n <= 1:\n",
    "        return False\n",
    "    for i in range(2, int(n**0.5) + 1):\n",
    "        if n % i == 0:\n",
    "            return False\n",
    "    return True\n",
    "\n",
    "num = int(input(\"Gib eine Zahl ein: \"))\n",
    "\n",
    "if is_prime(num):\n",
    "    print(num, \"ist eine Primzahl.\")\n",
    "else:\n",
    "    print(num, \"ist keine Primzahl.\")\n"
   ]
  },
  {
   "cell_type": "code",
   "execution_count": 9,
   "metadata": {},
   "outputs": [
    {
     "name": "stdout",
     "output_type": "stream",
     "text": [
      "Menu:\n",
      "1. Save data\n",
      "2. Load data\n",
      "3. Exit\n",
      "Data loaded from data.json:\n",
      "{'name': 'Yannok', 'age': 19, 'email': 'yan.fisch'}\n",
      "Menu:\n",
      "1. Save data\n",
      "2. Load data\n",
      "3. Exit\n",
      "Exiting the program...\n"
     ]
    }
   ],
   "source": [
    "import json\n",
    "\n",
    "# Function to save data to a file\n",
    "def save_data(data, filename):\n",
    "    with open(filename, 'w') as file:\n",
    "        json.dump(data, file)\n",
    "\n",
    "# Function to load data from a file\n",
    "def load_data(filename):\n",
    "    with open(filename, 'r') as file:\n",
    "        data = json.load(file)\n",
    "    return data\n",
    "\n",
    "while True:\n",
    "    print(\"Menu:\")\n",
    "    print(\"1. Save data\")\n",
    "    print(\"2. Load data\")\n",
    "    print(\"3. Exit\")\n",
    "\n",
    "    choice = input(\"Enter your choice (1-3): \")\n",
    "\n",
    "    if choice == \"1\":\n",
    "        user_data = {\n",
    "            'name': input(\"Enter your name: \"),\n",
    "            'age': int(input(\"Enter your age: \")),\n",
    "            'email': input(\"Enter your email: \")\n",
    "        }\n",
    "        save_data(user_data, 'data.json')\n",
    "        print(\"Data saved to data.json\")\n",
    "    elif choice == \"2\":\n",
    "        loaded_data = load_data('data.json')\n",
    "        print(\"Data loaded from data.json:\")\n",
    "        print(loaded_data)\n",
    "    elif choice == \"3\":\n",
    "        print(\"Exiting the program...\")\n",
    "        break\n",
    "    else:\n",
    "        print(\"Invalid choice. Please try again.\")\n",
    "\n",
    "\n"
   ]
  },
  {
   "cell_type": "code",
   "execution_count": 1,
   "metadata": {},
   "outputs": [
    {
     "name": "stdout",
     "output_type": "stream",
     "text": [
      "---------\n",
      "|   |   |   |\n",
      "---------\n",
      "|   |   |   |\n",
      "---------\n",
      "|   |   |   |\n",
      "---------\n",
      "---------\n",
      "| X |   |   |\n",
      "---------\n",
      "|   |   |   |\n",
      "---------\n",
      "|   |   |   |\n",
      "---------\n",
      "---------\n",
      "| X | O |   |\n",
      "---------\n",
      "|   |   |   |\n",
      "---------\n",
      "|   |   |   |\n",
      "---------\n",
      "---------\n",
      "| X | O |   |\n",
      "---------\n",
      "| X |   |   |\n",
      "---------\n",
      "|   |   |   |\n",
      "---------\n",
      "---------\n",
      "| X | O | O |\n",
      "---------\n",
      "| X |   |   |\n",
      "---------\n",
      "|   |   |   |\n",
      "---------\n",
      "---------\n",
      "| X | O | O |\n",
      "---------\n",
      "| X |   |   |\n",
      "---------\n",
      "| X |   |   |\n",
      "---------\n",
      "X wins!\n"
     ]
    }
   ],
   "source": [
    "# Tic Tac Toe\n",
    "\n",
    "# Create the board\n",
    "board = [' ' for _ in range(9)]\n",
    "\n",
    "# Function to print the board\n",
    "def print_board():\n",
    "    print('---------')\n",
    "    for i in range(3):\n",
    "        print('|', board[i*3], '|', board[i*3 + 1], '|', board[i*3 + 2], '|')\n",
    "        print('---------')\n",
    "\n",
    "# Function to check if a player has won\n",
    "def check_win(player):\n",
    "    # Check rows\n",
    "    for i in range(3):\n",
    "        if board[i*3] == board[i*3 + 1] == board[i*3 + 2] == player:\n",
    "            return True\n",
    "    # Check columns\n",
    "    for i in range(3):\n",
    "        if board[i] == board[i + 3] == board[i + 6] == player:\n",
    "            return True\n",
    "    # Check diagonals\n",
    "    if board[0] == board[4] == board[8] == player:\n",
    "        return True\n",
    "    if board[2] == board[4] == board[6] == player:\n",
    "        return True\n",
    "    return False\n",
    "\n",
    "# Function to play the game\n",
    "def play_game():\n",
    "    current_player = 'X'\n",
    "    while True:\n",
    "        print_board()\n",
    "        position = int(input(\"Enter a position (1-9): \")) - 1\n",
    "        if board[position] == ' ':\n",
    "            board[position] = current_player\n",
    "            if check_win(current_player):\n",
    "                print_board()\n",
    "                print(current_player, \"wins!\")\n",
    "                break\n",
    "            if ' ' not in board:\n",
    "                print_board()\n",
    "                print(\"It's a tie!\")\n",
    "                break\n",
    "            current_player = 'O' if current_player == 'X' else 'X'\n",
    "        else:\n",
    "            print(\"Invalid move. Try again.\")\n",
    "\n",
    "# Start the game\n",
    "play_game()\n"
   ]
  }
 ],
 "metadata": {
  "kernelspec": {
   "display_name": "Python 3",
   "language": "python",
   "name": "python3"
  },
  "language_info": {
   "codemirror_mode": {
    "name": "ipython",
    "version": 3
   },
   "file_extension": ".py",
   "mimetype": "text/x-python",
   "name": "python",
   "nbconvert_exporter": "python",
   "pygments_lexer": "ipython3",
   "version": "3.12.0"
  }
 },
 "nbformat": 4,
 "nbformat_minor": 2
}
